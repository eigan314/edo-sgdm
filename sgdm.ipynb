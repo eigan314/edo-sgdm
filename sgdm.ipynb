{
  "nbformat": 4,
  "nbformat_minor": 0,
  "metadata": {
    "colab": {
      "provenance": [],
      "gpuType": "T4",
      "authorship_tag": "ABX9TyNU9rAFc06gdH8EnJILCUzJ",
      "include_colab_link": true
    },
    "kernelspec": {
      "name": "python3",
      "display_name": "Python 3"
    },
    "language_info": {
      "name": "python"
    },
    "accelerator": "GPU"
  },
  "cells": [
    {
      "cell_type": "markdown",
      "metadata": {
        "id": "view-in-github",
        "colab_type": "text"
      },
      "source": [
        "<a href=\"https://colab.research.google.com/github/eigan314/edo-sgdm/blob/main/sgdm.ipynb\" target=\"_parent\"><img src=\"https://colab.research.google.com/assets/colab-badge.svg\" alt=\"Open In Colab\"/></a>"
      ]
    },
    {
      "cell_type": "code",
      "execution_count": null,
      "metadata": {
        "id": "ZS91iuf87qLM"
      },
      "outputs": [],
      "source": [
        "import numpy as np\n",
        "from  numpy.random import permutation"
      ]
    },
    {
      "cell_type": "code",
      "source": [
        "def f(w1, w2, x):\n",
        "  y0 = w1 + w2*x\n",
        "  return y0\n",
        "\n",
        "def dx_w1(w1, w2, x, y):\n",
        "  y0 = f(w1, w2, x)\n",
        "  gradient = 2*(y0-y)\n",
        "  return gradient\n",
        "\n",
        "def dx_w2(w1, w2, x, y):\n",
        "  y0 = f(w1, w2, x)\n",
        "  gradient = 2*x*(y0-y)\n",
        "  return gradient"
      ],
      "metadata": {
        "id": "cSzUveTpJlYJ"
      },
      "execution_count": null,
      "outputs": []
    },
    {
      "cell_type": "code",
      "source": [
        "learning_rate = 0.01\n",
        "decay_factor = 0.9\n",
        "max_iter = 1000\n",
        "\n",
        "def sgd(xs, ys):\n",
        "  w1 = np.random.uniform(0, 1, 1)\n",
        "  w2 = np.random.uniform(0, 1, 1)\n",
        "\n",
        "  prev_gradient_w1 = 0\n",
        "  prev_gradient_w2 = 0\n",
        "\n",
        "  iter = 0\n",
        "\n",
        "  while iter < max_iter:\n",
        "    perm = permutation(len(xs))\n",
        "    xr = xs[perm]\n",
        "    yr = ys[perm]\n",
        "\n",
        "    x = xr[0]\n",
        "    y = yr[0]\n",
        "\n",
        "    grad_w1 = decay_factor*prev_gradient_w1 - learning_rate*dx_w1(w1, w2, x, y)\n",
        "    grad_w2 = decay_factor*prev_gradient_w2 - learning_rate*dx_w2(w1, w2, x, y)\n",
        "\n",
        "    w1 = w1 + grad_w1\n",
        "    w2 = w2 + grad_w2\n",
        "\n",
        "    prev_gradient_w1 = grad_w1\n",
        "    prev_gradient_w2 = grad_w2\n",
        "\n",
        "    iter = iter + 1\n",
        "\n",
        "    if iter % 100 == 0:\n",
        "      print(f\"iter: {iter}\")\n",
        "      print(f\"w1: {w1}\")\n",
        "      print(f\"w2: {w2}\")\n",
        "\n",
        "\n",
        "  return (w1, w2)\n"
      ],
      "metadata": {
        "id": "d_Wx9n2vJsIH"
      },
      "execution_count": null,
      "outputs": []
    },
    {
      "cell_type": "code",
      "source": [
        "xs = np.array([1, 2, 3, 4, 5, 6])\n",
        "ys = np.array([1, 2, 3, 4, 5, 6])\n",
        "\n",
        "(w1, w2) = sgd(xs, ys)\n",
        "\n",
        "print(w1, w2)"
      ],
      "metadata": {
        "colab": {
          "base_uri": "https://localhost:8080/"
        },
        "id": "9Z-IRa-YJrnN",
        "outputId": "30ada318-ae78-4195-a138-5fc340797779"
      },
      "execution_count": null,
      "outputs": [
        {
          "output_type": "stream",
          "name": "stdout",
          "text": [
            "iter: 100\n",
            "w1: [-0.01861012]\n",
            "w2: [1.08516959]\n",
            "iter: 200\n",
            "w1: [0.01753835]\n",
            "w2: [0.99271701]\n",
            "iter: 300\n",
            "w1: [0.00033859]\n",
            "w2: [1.00049117]\n",
            "iter: 400\n",
            "w1: [0.00018833]\n",
            "w2: [0.99997392]\n",
            "iter: 500\n",
            "w1: [-5.97468538e-08]\n",
            "w2: [1.00000132]\n",
            "iter: 600\n",
            "w1: [3.06187501e-06]\n",
            "w2: [0.99999948]\n",
            "iter: 700\n",
            "w1: [-1.83096404e-06]\n",
            "w2: [1.]\n",
            "iter: 800\n",
            "w1: [-5.13485809e-08]\n",
            "w2: [0.99999997]\n",
            "iter: 900\n",
            "w1: [1.74386901e-08]\n",
            "w2: [1.00000002]\n",
            "iter: 1000\n",
            "w1: [4.72070875e-10]\n",
            "w2: [1.]\n",
            "[4.72070875e-10] [1.]\n"
          ]
        }
      ]
    },
    {
      "cell_type": "code",
      "source": [],
      "metadata": {
        "id": "Iw5-kmOQJrgW"
      },
      "execution_count": null,
      "outputs": []
    },
    {
      "cell_type": "code",
      "source": [],
      "metadata": {
        "id": "nvqAKz2MJreJ"
      },
      "execution_count": null,
      "outputs": []
    },
    {
      "cell_type": "code",
      "source": [],
      "metadata": {
        "id": "zIzR7rDjJrbo"
      },
      "execution_count": null,
      "outputs": []
    }
  ]
}